{
 "cells": [
  {
   "cell_type": "code",
   "execution_count": 2,
   "metadata": {},
   "outputs": [],
   "source": [
    "import pandas as pd\n",
    "from bs4 import BeautifulSoup as bs\n",
    "import requests\n",
    "from splinter import Browser\n",
    "from webdriver_manager.chrome import ChromeDriverManager\n"
   ]
  },
  {
   "cell_type": "code",
   "execution_count": 3,
   "metadata": {},
   "outputs": [],
   "source": [
    "req_headers = {\n",
    "    'accept': 'text/html,application/xhtml+xml,application/xml;q=0.9,image/webp,image/apng,*/*;q=0.8',\n",
    "    'accept-encoding': 'gzip, deflate, br',\n",
    "    'accept-language': 'en-US,en;q=0.8',\n",
    "    'upgrade-insecure-requests': '1',\n",
    "    'user-agent': 'Mozilla/5.0 (Windows NT 10.0; Win64; x64) AppleWebKit/537.36 (KHTML, like Gecko) Chrome/61.0.3163.100 Safari/537.36'\n",
    "}\n",
    "with requests.Session() as s:\n",
    "   city = 'dallas/' #*****change this city to what you want*****\n",
    "   url = 'https://www.zillow.com/homes/for_sale/'+ city    \n",
    "   r = s.get(url, headers=req_headers)"
   ]
  },
  {
   "cell_type": "code",
   "execution_count": 5,
   "metadata": {},
   "outputs": [],
   "source": [
    "soup = bs(r.content, 'html.parser')"
   ]
  },
  {
   "cell_type": "code",
   "execution_count": 122,
   "metadata": {},
   "outputs": [],
   "source": [
    "listing = soup.find_all('ul', class_='photo-cards photo-cards_wow photo-cards_short photo-cards_extra-attribution')\n"
   ]
  },
  {
   "cell_type": "code",
   "execution_count": 127,
   "metadata": {},
   "outputs": [],
   "source": [
    "address_list = []\n",
    "price_list = []\n",
    "list_card = []\n",
    "\n",
    "for lists in listing:\n",
    "    address = lists.find_all('address', class_='list-card-addr')\n",
    "    price = lists.find_all('div', class_='list-card-price')\n",
    "    bd_ba_size = lists.find_all('ul', class_='list-card-details')\n",
    "\n",
    "for bd in bd_ba_size:\n",
    "    info = bd.find_all('li', class_='')\n",
    "    for i in info:\n",
    "        list_card.append(i.text)\n",
    "\n",
    "for a in address:\n",
    "    address_list.append(a.text)\n",
    "\n",
    "for price in price:\n",
    "    price_list.append(price.text)"
   ]
  },
  {
   "cell_type": "code",
   "execution_count": 128,
   "metadata": {},
   "outputs": [],
   "source": [
    "# slice list card to extract beds, baths, size\n",
    "bds = list_card[0::3]\n",
    "baths = list_card[1::3]\n",
    "size = list_card[2::3]"
   ]
  },
  {
   "cell_type": "code",
   "execution_count": 130,
   "metadata": {},
   "outputs": [
    {
     "data": {
      "text/html": [
       "<div>\n",
       "<style scoped>\n",
       "    .dataframe tbody tr th:only-of-type {\n",
       "        vertical-align: middle;\n",
       "    }\n",
       "\n",
       "    .dataframe tbody tr th {\n",
       "        vertical-align: top;\n",
       "    }\n",
       "\n",
       "    .dataframe thead th {\n",
       "        text-align: right;\n",
       "    }\n",
       "</style>\n",
       "<table border=\"1\" class=\"dataframe\">\n",
       "  <thead>\n",
       "    <tr style=\"text-align: right;\">\n",
       "      <th></th>\n",
       "      <th>0</th>\n",
       "    </tr>\n",
       "  </thead>\n",
       "  <tbody>\n",
       "    <tr>\n",
       "      <th>0</th>\n",
       "      <td>6220 Bentwood Trl APT 206, Dallas, TX 75252</td>\n",
       "    </tr>\n",
       "    <tr>\n",
       "      <th>1</th>\n",
       "      <td>2827 Curvilinear Ct, Dallas, TX 75227</td>\n",
       "    </tr>\n",
       "    <tr>\n",
       "      <th>2</th>\n",
       "      <td>132 W Woodin Blvd, Dallas, TX 75224</td>\n",
       "    </tr>\n",
       "    <tr>\n",
       "      <th>3</th>\n",
       "      <td>7311 Hardwood Trl, Dallas, TX 75249</td>\n",
       "    </tr>\n",
       "    <tr>\n",
       "      <th>4</th>\n",
       "      <td>3609 Patience Blvd, Dallas, TX 75236</td>\n",
       "    </tr>\n",
       "  </tbody>\n",
       "</table>\n",
       "</div>"
      ],
      "text/plain": [
       "                                             0\n",
       "0  6220 Bentwood Trl APT 206, Dallas, TX 75252\n",
       "1        2827 Curvilinear Ct, Dallas, TX 75227\n",
       "2          132 W Woodin Blvd, Dallas, TX 75224\n",
       "3          7311 Hardwood Trl, Dallas, TX 75249\n",
       "4         3609 Patience Blvd, Dallas, TX 75236"
      ]
     },
     "execution_count": 130,
     "metadata": {},
     "output_type": "execute_result"
    }
   ],
   "source": [
    "house_info = pd.DataFrame(address_list)\n",
    "house_info.head()"
   ]
  },
  {
   "cell_type": "code",
   "execution_count": 131,
   "metadata": {},
   "outputs": [],
   "source": [
    "house_info['price'] = price_list\n",
    "house_info['beds'] = bds\n",
    "house_info['baths'] = baths\n",
    "house_info['size'] = size"
   ]
  },
  {
   "cell_type": "code",
   "execution_count": 132,
   "metadata": {},
   "outputs": [
    {
     "data": {
      "text/html": [
       "<div>\n",
       "<style scoped>\n",
       "    .dataframe tbody tr th:only-of-type {\n",
       "        vertical-align: middle;\n",
       "    }\n",
       "\n",
       "    .dataframe tbody tr th {\n",
       "        vertical-align: top;\n",
       "    }\n",
       "\n",
       "    .dataframe thead th {\n",
       "        text-align: right;\n",
       "    }\n",
       "</style>\n",
       "<table border=\"1\" class=\"dataframe\">\n",
       "  <thead>\n",
       "    <tr style=\"text-align: right;\">\n",
       "      <th></th>\n",
       "      <th>0</th>\n",
       "      <th>price</th>\n",
       "      <th>beds</th>\n",
       "      <th>baths</th>\n",
       "      <th>size</th>\n",
       "    </tr>\n",
       "  </thead>\n",
       "  <tbody>\n",
       "    <tr>\n",
       "      <th>0</th>\n",
       "      <td>6220 Bentwood Trl APT 206, Dallas, TX 75252</td>\n",
       "      <td>$175,000</td>\n",
       "      <td>1 bd</td>\n",
       "      <td>2 ba</td>\n",
       "      <td>807 sqft</td>\n",
       "    </tr>\n",
       "    <tr>\n",
       "      <th>1</th>\n",
       "      <td>2827 Curvilinear Ct, Dallas, TX 75227</td>\n",
       "      <td>$245,000</td>\n",
       "      <td>4 bds</td>\n",
       "      <td>2 ba</td>\n",
       "      <td>2,200 sqft</td>\n",
       "    </tr>\n",
       "    <tr>\n",
       "      <th>2</th>\n",
       "      <td>132 W Woodin Blvd, Dallas, TX 75224</td>\n",
       "      <td>$275,000</td>\n",
       "      <td>4 bds</td>\n",
       "      <td>2 ba</td>\n",
       "      <td>1,800 sqft</td>\n",
       "    </tr>\n",
       "    <tr>\n",
       "      <th>3</th>\n",
       "      <td>7311 Hardwood Trl, Dallas, TX 75249</td>\n",
       "      <td>$209,900</td>\n",
       "      <td>3 bds</td>\n",
       "      <td>2 ba</td>\n",
       "      <td>1,902 sqft</td>\n",
       "    </tr>\n",
       "    <tr>\n",
       "      <th>4</th>\n",
       "      <td>3609 Patience Blvd, Dallas, TX 75236</td>\n",
       "      <td>$324,990</td>\n",
       "      <td>4 bds</td>\n",
       "      <td>2 ba</td>\n",
       "      <td>2,067 sqft</td>\n",
       "    </tr>\n",
       "  </tbody>\n",
       "</table>\n",
       "</div>"
      ],
      "text/plain": [
       "                                             0     price   beds baths  \\\n",
       "0  6220 Bentwood Trl APT 206, Dallas, TX 75252  $175,000   1 bd  2 ba   \n",
       "1        2827 Curvilinear Ct, Dallas, TX 75227  $245,000  4 bds  2 ba   \n",
       "2          132 W Woodin Blvd, Dallas, TX 75224  $275,000  4 bds  2 ba   \n",
       "3          7311 Hardwood Trl, Dallas, TX 75249  $209,900  3 bds  2 ba   \n",
       "4         3609 Patience Blvd, Dallas, TX 75236  $324,990  4 bds  2 ba   \n",
       "\n",
       "         size  \n",
       "0    807 sqft  \n",
       "1  2,200 sqft  \n",
       "2  1,800 sqft  \n",
       "3  1,902 sqft  \n",
       "4  2,067 sqft  "
      ]
     },
     "execution_count": 132,
     "metadata": {},
     "output_type": "execute_result"
    }
   ],
   "source": [
    "house_info.head()"
   ]
  },
  {
   "cell_type": "code",
   "execution_count": null,
   "metadata": {},
   "outputs": [],
   "source": [
    "# Clean up: strip 'bds', 'ba', 'sqft', and convert price to only numerical \n"
   ]
  }
 ],
 "metadata": {
  "kernelspec": {
   "display_name": "Python 3",
   "language": "python",
   "name": "python3"
  },
  "language_info": {
   "codemirror_mode": {
    "name": "ipython",
    "version": 3
   },
   "file_extension": ".py",
   "mimetype": "text/x-python",
   "name": "python",
   "nbconvert_exporter": "python",
   "pygments_lexer": "ipython3",
   "version": "3.8.5"
  }
 },
 "nbformat": 4,
 "nbformat_minor": 4
}
