{
 "cells": [
  {
   "cell_type": "code",
   "execution_count": 133,
   "metadata": {},
   "outputs": [],
   "source": [
    "import pandas as pd\n",
    "import numpy as np\n",
    "import matplotlib.pyplot as plt\n",
    "import seaborn as sns\n",
    "pd.options.mode.chained_assignment = None\n",
    "import geopandas as gpd"
   ]
  },
  {
   "cell_type": "code",
   "execution_count": 80,
   "metadata": {},
   "outputs": [],
   "source": [
    "path = './output/house_info.csv'\n",
    "df = pd.read_csv(path)"
   ]
  },
  {
   "cell_type": "code",
   "execution_count": 81,
   "metadata": {},
   "outputs": [],
   "source": [
    "# drop imported index column\n",
    "df = df.drop(['Unnamed: 0'], axis=1)"
   ]
  },
  {
   "cell_type": "markdown",
   "metadata": {},
   "source": [
    "## Exploration "
   ]
  },
  {
   "cell_type": "code",
   "execution_count": 86,
   "metadata": {},
   "outputs": [
    {
     "data": {
      "text/html": [
       "<div>\n",
       "<style scoped>\n",
       "    .dataframe tbody tr th:only-of-type {\n",
       "        vertical-align: middle;\n",
       "    }\n",
       "\n",
       "    .dataframe tbody tr th {\n",
       "        vertical-align: top;\n",
       "    }\n",
       "\n",
       "    .dataframe thead th {\n",
       "        text-align: right;\n",
       "    }\n",
       "</style>\n",
       "<table border=\"1\" class=\"dataframe\">\n",
       "  <thead>\n",
       "    <tr style=\"text-align: right;\">\n",
       "      <th></th>\n",
       "      <th>price</th>\n",
       "      <th>beds</th>\n",
       "      <th>baths</th>\n",
       "      <th>size</th>\n",
       "      <th>zipcode</th>\n",
       "    </tr>\n",
       "  </thead>\n",
       "  <tbody>\n",
       "    <tr>\n",
       "      <th>count</th>\n",
       "      <td>7.600000e+02</td>\n",
       "      <td>760.000000</td>\n",
       "      <td>760.000000</td>\n",
       "      <td>760.000000</td>\n",
       "      <td>760.000000</td>\n",
       "    </tr>\n",
       "    <tr>\n",
       "      <th>mean</th>\n",
       "      <td>9.996521e+05</td>\n",
       "      <td>3.425000</td>\n",
       "      <td>2.850000</td>\n",
       "      <td>2377.650000</td>\n",
       "      <td>75282.200000</td>\n",
       "    </tr>\n",
       "    <tr>\n",
       "      <th>std</th>\n",
       "      <td>3.694397e+06</td>\n",
       "      <td>1.243547</td>\n",
       "      <td>2.736303</td>\n",
       "      <td>2896.364876</td>\n",
       "      <td>366.469399</td>\n",
       "    </tr>\n",
       "    <tr>\n",
       "      <th>min</th>\n",
       "      <td>1.750000e+05</td>\n",
       "      <td>1.000000</td>\n",
       "      <td>1.000000</td>\n",
       "      <td>807.000000</td>\n",
       "      <td>75205.000000</td>\n",
       "    </tr>\n",
       "    <tr>\n",
       "      <th>25%</th>\n",
       "      <td>2.437500e+05</td>\n",
       "      <td>3.000000</td>\n",
       "      <td>2.000000</td>\n",
       "      <td>1558.500000</td>\n",
       "      <td>75215.500000</td>\n",
       "    </tr>\n",
       "    <tr>\n",
       "      <th>50%</th>\n",
       "      <td>3.522500e+05</td>\n",
       "      <td>3.000000</td>\n",
       "      <td>2.000000</td>\n",
       "      <td>1809.000000</td>\n",
       "      <td>75221.500000</td>\n",
       "    </tr>\n",
       "    <tr>\n",
       "      <th>75%</th>\n",
       "      <td>4.999248e+05</td>\n",
       "      <td>4.000000</td>\n",
       "      <td>3.000000</td>\n",
       "      <td>2265.750000</td>\n",
       "      <td>75232.000000</td>\n",
       "    </tr>\n",
       "    <tr>\n",
       "      <th>max</th>\n",
       "      <td>2.400000e+07</td>\n",
       "      <td>9.000000</td>\n",
       "      <td>19.000000</td>\n",
       "      <td>20000.000000</td>\n",
       "      <td>77568.000000</td>\n",
       "    </tr>\n",
       "  </tbody>\n",
       "</table>\n",
       "</div>"
      ],
      "text/plain": [
       "              price        beds       baths          size       zipcode\n",
       "count  7.600000e+02  760.000000  760.000000    760.000000    760.000000\n",
       "mean   9.996521e+05    3.425000    2.850000   2377.650000  75282.200000\n",
       "std    3.694397e+06    1.243547    2.736303   2896.364876    366.469399\n",
       "min    1.750000e+05    1.000000    1.000000    807.000000  75205.000000\n",
       "25%    2.437500e+05    3.000000    2.000000   1558.500000  75215.500000\n",
       "50%    3.522500e+05    3.000000    2.000000   1809.000000  75221.500000\n",
       "75%    4.999248e+05    4.000000    3.000000   2265.750000  75232.000000\n",
       "max    2.400000e+07    9.000000   19.000000  20000.000000  77568.000000"
      ]
     },
     "execution_count": 86,
     "metadata": {},
     "output_type": "execute_result"
    }
   ],
   "source": [
    "df.describe()"
   ]
  },
  {
   "cell_type": "code",
   "execution_count": 87,
   "metadata": {},
   "outputs": [
    {
     "data": {
      "image/png": "[encoded data removed]",
      "text/plain": [
       "<Figure size 432x288 with 1 Axes>"
      ]
     },
     "metadata": {},
     "output_type": "display_data"
    }
   ],
   "source": [
    "# Box plot to show distribution \n",
    "prices = df['price']\n",
    "sns.set_theme(style=\"whitegrid\")\n",
    "ax = sns.boxplot(x=prices)\n",
    "plt.title('Dallas Housing Market')\n",
    "plt.show()"
   ]
  },
  {
   "cell_type": "code",
   "execution_count": 88,
   "metadata": {},
   "outputs": [
    {
     "name": "stdout",
     "output_type": "stream",
     "text": [
      "Number of outliers: 114\n"
     ]
    }
   ],
   "source": [
    "# remove extreme outliers\n",
    "Q1 = df.quantile(0.25)\n",
    "Q3 = df.quantile(0.75)\n",
    "IQR = Q3 - Q1\n",
    "houses = df[~((df < (Q1 - 1.5 * IQR)) |(df > (Q3 + 1.5 * IQR))).any(axis=1)]\n",
    "print(f'Number of outliers: {len(df) - len(houses)}')"
   ]
  },
  {
   "cell_type": "code",
   "execution_count": 89,
   "metadata": {},
   "outputs": [
    {
     "data": {
      "image/png": "[encoded data removed]",
      "text/plain": [
       "<Figure size 432x288 with 1 Axes>"
      ]
     },
     "metadata": {},
     "output_type": "display_data"
    }
   ],
   "source": [
    "# boxplot without the outliers\n",
    "prices = houses['price']\n",
    "sns.set_theme(style=\"whitegrid\")\n",
    "ax = sns.boxplot(x=prices)\n",
    "plt.title('Dallas Housing Market')\n",
    "plt.show()"
   ]
  },
  {
   "cell_type": "code",
   "execution_count": 90,
   "metadata": {},
   "outputs": [
    {
     "data": {
      "image/png": "[encoded data removed]",
      "text/plain": [
       "<Figure size 432x288 with 1 Axes>"
      ]
     },
     "metadata": {},
     "output_type": "display_data"
    }
   ],
   "source": [
    "# Create bins for spending ranges and respective labels \n",
    "price_ranges = [0, 200000, 400000, 600000, 800000, 2000000]\n",
    "spending_ranges = [\"<200K\", \"200K-400K\", \"400K-600K\", \"600K-800K\", \">800K\"]\n",
    "df['spending ranges'] = pd.cut(df[\"price\"], price_ranges, labels=spending_ranges, include_lowest=False)\n",
    "\n",
    "# count how many in each bin\n",
    "count = df.groupby('spending ranges')['address'].count()\n",
    "plt.bar(spending_ranges, count, color='lightblue')\n",
    "plt.title('Houses for Sale by Price Range')\n",
    "plt.savefig('./output/price_range.png')\n",
    "plt.show()"
   ]
  },
  {
   "cell_type": "code",
   "execution_count": 113,
   "metadata": {},
   "outputs": [
    {
     "data": {
      "text/html": [
       "<div>\n",
       "<style scoped>\n",
       "    .dataframe tbody tr th:only-of-type {\n",
       "        vertical-align: middle;\n",
       "    }\n",
       "\n",
       "    .dataframe tbody tr th {\n",
       "        vertical-align: top;\n",
       "    }\n",
       "\n",
       "    .dataframe thead th {\n",
       "        text-align: right;\n",
       "    }\n",
       "</style>\n",
       "<table border=\"1\" class=\"dataframe\">\n",
       "  <thead>\n",
       "    <tr style=\"text-align: right;\">\n",
       "      <th></th>\n",
       "      <th></th>\n",
       "      <th>baths</th>\n",
       "      <th>beds</th>\n",
       "      <th>size</th>\n",
       "    </tr>\n",
       "    <tr>\n",
       "      <th>spending ranges</th>\n",
       "      <th>zipcode</th>\n",
       "      <th></th>\n",
       "      <th></th>\n",
       "      <th></th>\n",
       "    </tr>\n",
       "  </thead>\n",
       "  <tbody>\n",
       "    <tr>\n",
       "      <th rowspan=\"5\" valign=\"top\">&lt;200K</th>\n",
       "      <th>75216</th>\n",
       "      <td>2</td>\n",
       "      <td>3</td>\n",
       "      <td>1262</td>\n",
       "    </tr>\n",
       "    <tr>\n",
       "      <th>75217</th>\n",
       "      <td>2</td>\n",
       "      <td>4</td>\n",
       "      <td>1302</td>\n",
       "    </tr>\n",
       "    <tr>\n",
       "      <th>75232</th>\n",
       "      <td>2</td>\n",
       "      <td>3</td>\n",
       "      <td>1602</td>\n",
       "    </tr>\n",
       "    <tr>\n",
       "      <th>75241</th>\n",
       "      <td>3</td>\n",
       "      <td>4</td>\n",
       "      <td>1578</td>\n",
       "    </tr>\n",
       "    <tr>\n",
       "      <th>75252</th>\n",
       "      <td>2</td>\n",
       "      <td>1</td>\n",
       "      <td>807</td>\n",
       "    </tr>\n",
       "    <tr>\n",
       "      <th rowspan=\"15\" valign=\"top\">200K-400K</th>\n",
       "      <th>75205</th>\n",
       "      <td>2</td>\n",
       "      <td>1</td>\n",
       "      <td>869</td>\n",
       "    </tr>\n",
       "    <tr>\n",
       "      <th>75208</th>\n",
       "      <td>2</td>\n",
       "      <td>2</td>\n",
       "      <td>1122</td>\n",
       "    </tr>\n",
       "    <tr>\n",
       "      <th>75211</th>\n",
       "      <td>2</td>\n",
       "      <td>3</td>\n",
       "      <td>1600</td>\n",
       "    </tr>\n",
       "    <tr>\n",
       "      <th>75212</th>\n",
       "      <td>2</td>\n",
       "      <td>4</td>\n",
       "      <td>1804</td>\n",
       "    </tr>\n",
       "    <tr>\n",
       "      <th>75216</th>\n",
       "      <td>2</td>\n",
       "      <td>4</td>\n",
       "      <td>2300</td>\n",
       "    </tr>\n",
       "    <tr>\n",
       "      <th>75217</th>\n",
       "      <td>3</td>\n",
       "      <td>4</td>\n",
       "      <td>2482</td>\n",
       "    </tr>\n",
       "    <tr>\n",
       "      <th>75218</th>\n",
       "      <td>2</td>\n",
       "      <td>3</td>\n",
       "      <td>1500</td>\n",
       "    </tr>\n",
       "    <tr>\n",
       "      <th>75224</th>\n",
       "      <td>2</td>\n",
       "      <td>4</td>\n",
       "      <td>1810</td>\n",
       "    </tr>\n",
       "    <tr>\n",
       "      <th>75227</th>\n",
       "      <td>2</td>\n",
       "      <td>4</td>\n",
       "      <td>2200</td>\n",
       "    </tr>\n",
       "    <tr>\n",
       "      <th>75229</th>\n",
       "      <td>2</td>\n",
       "      <td>4</td>\n",
       "      <td>2151</td>\n",
       "    </tr>\n",
       "    <tr>\n",
       "      <th>75232</th>\n",
       "      <td>2</td>\n",
       "      <td>4</td>\n",
       "      <td>2030</td>\n",
       "    </tr>\n",
       "    <tr>\n",
       "      <th>75236</th>\n",
       "      <td>2</td>\n",
       "      <td>4</td>\n",
       "      <td>2067</td>\n",
       "    </tr>\n",
       "    <tr>\n",
       "      <th>75243</th>\n",
       "      <td>3</td>\n",
       "      <td>4</td>\n",
       "      <td>2463</td>\n",
       "    </tr>\n",
       "    <tr>\n",
       "      <th>75249</th>\n",
       "      <td>2</td>\n",
       "      <td>3</td>\n",
       "      <td>1902</td>\n",
       "    </tr>\n",
       "    <tr>\n",
       "      <th>75253</th>\n",
       "      <td>2</td>\n",
       "      <td>3</td>\n",
       "      <td>1441</td>\n",
       "    </tr>\n",
       "    <tr>\n",
       "      <th rowspan=\"6\" valign=\"top\">400K-600K</th>\n",
       "      <th>75218</th>\n",
       "      <td>2</td>\n",
       "      <td>4</td>\n",
       "      <td>2088</td>\n",
       "    </tr>\n",
       "    <tr>\n",
       "      <th>75223</th>\n",
       "      <td>2</td>\n",
       "      <td>2</td>\n",
       "      <td>1444</td>\n",
       "    </tr>\n",
       "    <tr>\n",
       "      <th>75229</th>\n",
       "      <td>3</td>\n",
       "      <td>3</td>\n",
       "      <td>2042</td>\n",
       "    </tr>\n",
       "    <tr>\n",
       "      <th>75231</th>\n",
       "      <td>2</td>\n",
       "      <td>3</td>\n",
       "      <td>2089</td>\n",
       "    </tr>\n",
       "    <tr>\n",
       "      <th>75238</th>\n",
       "      <td>2</td>\n",
       "      <td>3</td>\n",
       "      <td>1647</td>\n",
       "    </tr>\n",
       "    <tr>\n",
       "      <th>77568</th>\n",
       "      <td>4</td>\n",
       "      <td>4</td>\n",
       "      <td>3238</td>\n",
       "    </tr>\n",
       "    <tr>\n",
       "      <th rowspan=\"4\" valign=\"top\">600K-800K</th>\n",
       "      <th>75206</th>\n",
       "      <td>5</td>\n",
       "      <td>4</td>\n",
       "      <td>2811</td>\n",
       "    </tr>\n",
       "    <tr>\n",
       "      <th>75218</th>\n",
       "      <td>3</td>\n",
       "      <td>3</td>\n",
       "      <td>1712</td>\n",
       "    </tr>\n",
       "    <tr>\n",
       "      <th>75223</th>\n",
       "      <td>2</td>\n",
       "      <td>3</td>\n",
       "      <td>1814</td>\n",
       "    </tr>\n",
       "    <tr>\n",
       "      <th>75229</th>\n",
       "      <td>3</td>\n",
       "      <td>3</td>\n",
       "      <td>2491</td>\n",
       "    </tr>\n",
       "    <tr>\n",
       "      <th rowspan=\"2\" valign=\"top\">&gt;800K</th>\n",
       "      <th>75209</th>\n",
       "      <td>6</td>\n",
       "      <td>5</td>\n",
       "      <td>4403</td>\n",
       "    </tr>\n",
       "    <tr>\n",
       "      <th>75214</th>\n",
       "      <td>2</td>\n",
       "      <td>3</td>\n",
       "      <td>1804</td>\n",
       "    </tr>\n",
       "  </tbody>\n",
       "</table>\n",
       "</div>"
      ],
      "text/plain": [
       "                        baths beds  size\n",
       "spending ranges zipcode                 \n",
       "<200K           75216       2    3  1262\n",
       "                75217       2    4  1302\n",
       "                75232       2    3  1602\n",
       "                75241       3    4  1578\n",
       "                75252       2    1   807\n",
       "200K-400K       75205       2    1   869\n",
       "                75208       2    2  1122\n",
       "                75211       2    3  1600\n",
       "                75212       2    4  1804\n",
       "                75216       2    4  2300\n",
       "                75217       3    4  2482\n",
       "                75218       2    3  1500\n",
       "                75224       2    4  1810\n",
       "                75227       2    4  2200\n",
       "                75229       2    4  2151\n",
       "                75232       2    4  2030\n",
       "                75236       2    4  2067\n",
       "                75243       3    4  2463\n",
       "                75249       2    3  1902\n",
       "                75253       2    3  1441\n",
       "400K-600K       75218       2    4  2088\n",
       "                75223       2    2  1444\n",
       "                75229       3    3  2042\n",
       "                75231       2    3  2089\n",
       "                75238       2    3  1647\n",
       "                77568       4    4  3238\n",
       "600K-800K       75206       5    4  2811\n",
       "                75218       3    3  1712\n",
       "                75223       2    3  1814\n",
       "                75229       3    3  2491\n",
       ">800K           75209       6    5  4403\n",
       "                75214       2    3  1804"
      ]
     },
     "execution_count": 113,
     "metadata": {},
     "output_type": "execute_result"
    }
   ],
   "source": [
    "# Most expensive zip codes \n",
    "spending_zipcodes = pd.pivot_table(df, index=['spending ranges','zipcode'], values=['size', 'baths', 'beds'])\n",
    "\n",
    "# formatting to make it prettier \n",
    "spending_zipcodes['beds'] = spending_zipcodes['beds'].map(\"{:.0f}\".format)\n",
    "spending_zipcodes['baths'] = spending_zipcodes['baths'].map(\"{:.0f}\".format)\n",
    "spending_zipcodes['size'] = spending_zipcodes['size'].map(\"{:.0f}\".format)\n",
    "\n",
    "spending_zipcodes"
   ]
  },
  {
   "cell_type": "code",
   "execution_count": 131,
   "metadata": {},
   "outputs": [
    {
     "data": {
      "image/png": "[encoded data removed]",
      "text/plain": [
       "<Figure size 432x288 with 1 Axes>"
      ]
     },
     "metadata": {},
     "output_type": "display_data"
    },
    {
     "data": {
      "image/png": "[encoded data removed]",
      "text/plain": [
       "<Figure size 432x288 with 1 Axes>"
      ]
     },
     "metadata": {},
     "output_type": "display_data"
    }
   ],
   "source": [
    "# df_spending = df.loc[df['spending ranges'] != '>800K']\n",
    "\n",
    "# Boxplot of price by spending range\n",
    "ax = sns.boxplot(x=\"price\", y=\"spending ranges\", data=df)\n",
    "sns.set_theme(style=\"whitegrid\")\n",
    "plt.title('Price Distribution by Spending Range')\n",
    "plt.show()\n",
    "\n",
    "# Size by spending range \n",
    "ax = sns.boxplot(x=\"size\", y=\"spending ranges\", data=df)\n",
    "sns.set_theme(style=\"whitegrid\")\n",
    "plt.title('Size Distribution by Spending Range')\n",
    "plt.show()\n"
   ]
  },
  {
   "cell_type": "code",
   "execution_count": 142,
   "metadata": {},
   "outputs": [],
   "source": [
    "# Plot zip codes on heat/density map based on price \n",
    "cities = gpd.read_file(gpd.datasets.get_path('naturalearth_cities'))\n"
   ]
  },
  {
   "cell_type": "markdown",
   "metadata": {},
   "source": [
    "### Biggest house you can buy for each budget \n"
   ]
  },
  {
   "cell_type": "code",
   "execution_count": 110,
   "metadata": {},
   "outputs": [
    {
     "data": {
      "text/html": [
       "<div>\n",
       "<style scoped>\n",
       "    .dataframe tbody tr th:only-of-type {\n",
       "        vertical-align: middle;\n",
       "    }\n",
       "\n",
       "    .dataframe tbody tr th {\n",
       "        vertical-align: top;\n",
       "    }\n",
       "\n",
       "    .dataframe thead th {\n",
       "        text-align: right;\n",
       "    }\n",
       "</style>\n",
       "<table border=\"1\" class=\"dataframe\">\n",
       "  <thead>\n",
       "    <tr style=\"text-align: right;\">\n",
       "      <th></th>\n",
       "      <th>Largest house</th>\n",
       "    </tr>\n",
       "    <tr>\n",
       "      <th>spending ranges</th>\n",
       "      <th></th>\n",
       "    </tr>\n",
       "  </thead>\n",
       "  <tbody>\n",
       "    <tr>\n",
       "      <th>&lt;200K</th>\n",
       "      <td>1602</td>\n",
       "    </tr>\n",
       "    <tr>\n",
       "      <th>200K-400K</th>\n",
       "      <td>2582</td>\n",
       "    </tr>\n",
       "    <tr>\n",
       "      <th>400K-600K</th>\n",
       "      <td>3238</td>\n",
       "    </tr>\n",
       "    <tr>\n",
       "      <th>600K-800K</th>\n",
       "      <td>2811</td>\n",
       "    </tr>\n",
       "    <tr>\n",
       "      <th>&gt;800K</th>\n",
       "      <td>4403</td>\n",
       "    </tr>\n",
       "  </tbody>\n",
       "</table>\n",
       "</div>"
      ],
      "text/plain": [
       "                 Largest house\n",
       "spending ranges               \n",
       "<200K                     1602\n",
       "200K-400K                 2582\n",
       "400K-600K                 3238\n",
       "600K-800K                 2811\n",
       ">800K                     4403"
      ]
     },
     "execution_count": 110,
     "metadata": {},
     "output_type": "execute_result"
    }
   ],
   "source": [
    "by_budget = df.groupby('spending ranges')['size'].max()\n",
    "by_budget = pd.DataFrame(\n",
    "    {'Largest house': by_budget}\n",
    ")\n",
    "by_budget"
   ]
  },
  {
   "cell_type": "code",
   "execution_count": 156,
   "metadata": {},
   "outputs": [
    {
     "data": {
      "image/png": "[encoded data removed]",
      "text/plain": [
       "<Figure size 480x480 with 1 Axes>"
      ]
     },
     "metadata": {},
     "output_type": "display_data"
    }
   ],
   "source": [
    "# pip install squarify\n",
    "import squarify \n",
    "\n",
    "# Sizes\n",
    "sizes = by_budget['Largest house']\n",
    "labels = by_budget.index\n",
    "colors = [plt.cm.Spectral(i/float(len(labels))) for i in range(len(labels))]\n",
    "\n",
    "# Draw Plot\n",
    "plt.figure(figsize=(6,6), dpi= 80)\n",
    "squarify.plot(sizes=sizes, label=labels, color=colors, alpha=.8)\n",
    "\n",
    "# Decorate\n",
    "plt.title('Largest House by Budget')\n",
    "plt.axis('off')\n",
    "plt.show()"
   ]
  },
  {
   "cell_type": "markdown",
   "metadata": {},
   "source": [
    "### Cost per square foot"
   ]
  },
  {
   "cell_type": "code",
   "execution_count": 112,
   "metadata": {},
   "outputs": [
    {
     "data": {
      "text/html": [
       "<div>\n",
       "<style scoped>\n",
       "    .dataframe tbody tr th:only-of-type {\n",
       "        vertical-align: middle;\n",
       "    }\n",
       "\n",
       "    .dataframe tbody tr th {\n",
       "        vertical-align: top;\n",
       "    }\n",
       "\n",
       "    .dataframe thead th {\n",
       "        text-align: right;\n",
       "    }\n",
       "</style>\n",
       "<table border=\"1\" class=\"dataframe\">\n",
       "  <thead>\n",
       "    <tr style=\"text-align: right;\">\n",
       "      <th></th>\n",
       "      <th>price per sqft</th>\n",
       "      <th>avg size</th>\n",
       "    </tr>\n",
       "    <tr>\n",
       "      <th>spending ranges</th>\n",
       "      <th></th>\n",
       "      <th></th>\n",
       "    </tr>\n",
       "  </thead>\n",
       "  <tbody>\n",
       "    <tr>\n",
       "      <th>&lt;200K</th>\n",
       "      <td>23.755474</td>\n",
       "      <td>1310.0</td>\n",
       "    </tr>\n",
       "    <tr>\n",
       "      <th>200K-400K</th>\n",
       "      <td>40.276253</td>\n",
       "      <td>1852.0</td>\n",
       "    </tr>\n",
       "    <tr>\n",
       "      <th>400K-600K</th>\n",
       "      <td>64.807970</td>\n",
       "      <td>2091.0</td>\n",
       "    </tr>\n",
       "    <tr>\n",
       "      <th>600K-800K</th>\n",
       "      <td>89.736842</td>\n",
       "      <td>2207.0</td>\n",
       "    </tr>\n",
       "    <tr>\n",
       "      <th>&gt;800K</th>\n",
       "      <td>163.125000</td>\n",
       "      <td>3104.0</td>\n",
       "    </tr>\n",
       "  </tbody>\n",
       "</table>\n",
       "</div>"
      ],
      "text/plain": [
       "                 price per sqft  avg size\n",
       "spending ranges                          \n",
       "<200K                 23.755474    1310.0\n",
       "200K-400K             40.276253    1852.0\n",
       "400K-600K             64.807970    2091.0\n",
       "600K-800K             89.736842    2207.0\n",
       ">800K                163.125000    3104.0"
      ]
     },
     "execution_count": 112,
     "metadata": {},
     "output_type": "execute_result"
    }
   ],
   "source": [
    "# Calculate cost per square foot \n",
    "price_sqft = df.price / df.size\n",
    "df['price per sqft'] = price_sqft\n",
    "\n",
    "# Avg size by spending range \n",
    "avg_size = df.groupby('spending ranges')['size'].mean().round()\n",
    "\n",
    "# Average price per square foot by spending range \n",
    "budget_sqft = df.groupby('spending ranges')['price per sqft'].mean()\n",
    "budget_sqft = pd.DataFrame(budget_sqft)\n",
    "budget_sqft['avg size'] = avg_size\n",
    "budget_sqft"
   ]
  },
  {
   "cell_type": "code",
   "execution_count": null,
   "metadata": {},
   "outputs": [],
   "source": []
  }
 ],
 "metadata": {
  "kernelspec": {
   "display_name": "Python 3",
   "language": "python",
   "name": "python3"
  },
  "language_info": {
   "codemirror_mode": {
    "name": "ipython",
    "version": 3
   },
   "file_extension": ".py",
   "mimetype": "text/x-python",
   "name": "python",
   "nbconvert_exporter": "python",
   "pygments_lexer": "ipython3",
   "version": "3.8.5"
  }
 },
 "nbformat": 4,
 "nbformat_minor": 4
}
